{
 "cells": [
  {
   "cell_type": "code",
   "execution_count": null,
   "id": "b657a3bb",
   "metadata": {},
   "outputs": [],
   "source": [
    "from cs336_systems.ddp_overlap_bucketed import get_buckets\n",
    "import numpy as np\n",
    "from cs336_basics.data import get_batch\n",
    "from cs336_basics.model import BasicsTransformerLM\n",
    "from cs336_basics.nn_utils import cross_entropy"
   ]
  },
  {
   "cell_type": "code",
   "execution_count": null,
   "id": "d3dc31e1",
   "metadata": {},
   "outputs": [],
   "source": [
    "module = BasicsTransformerLM(\n",
    "    vocab_size=10_000,\n",
    "    context_length=512,\n",
    "    d_model=1600,\n",
    "    d_ff=6400,\n",
    "    num_layers=48,\n",
    "    num_heads=25,\n",
    "    rope_theta=10_000,\n",
    ")\n",
    "module.to(\"cuda\")"
   ]
  },
  {
   "cell_type": "code",
   "execution_count": null,
   "id": "e2458369",
   "metadata": {},
   "outputs": [],
   "source": [
    "dataset = np.random.randint(0, 10_000, 1024)\n",
    "x, y = get_batch(dataset, 4, 512, \"cuda\")\n",
    "y_hat = module(x)\n",
    "loss = cross_entropy(y_hat, y)\n",
    "loss.backward()"
   ]
  },
  {
   "cell_type": "code",
   "execution_count": null,
   "id": "7ee7a914",
   "metadata": {},
   "outputs": [],
   "source": [
    "for param in reversed(list(module.parameters())):\n",
    "    if param.requires_grad: \n",
    "        print(param.grad)"
   ]
  },
  {
   "cell_type": "code",
   "execution_count": null,
   "id": "9f368933",
   "metadata": {},
   "outputs": [],
   "source": [
    "buckets = get_buckets(module, 10.0)\n",
    "for bucket in buckets:\n",
    "    for param in bucket:\n",
    "        if param.grad is None:\n",
    "            print(param)"
   ]
  },
  {
   "cell_type": "code",
   "execution_count": null,
   "metadata": {},
   "outputs": [],
   "source": [
    "print(buckets[-1][0].grad[0])"
   ]
  },
  {
   "cell_type": "code",
   "execution_count": null,
   "id": "68f05a70",
   "metadata": {},
   "outputs": [],
   "source": [
    "buckets[-1][0].size()"
   ]
  },
  {
   "cell_type": "code",
   "execution_count": null,
   "id": "97661bb3",
   "metadata": {},
   "outputs": [],
   "source": [
    "buckets[-1][1].size()"
   ]
  },
  {
   "cell_type": "code",
   "execution_count": null,
   "id": "a5925a21",
   "metadata": {},
   "outputs": [],
   "source": []
  },
  {
   "cell_type": "code",
   "execution_count": null,
   "id": "65fd1b11",
   "metadata": {},
   "outputs": [],
   "source": [
    "x = torch.tensor(1.0, requires_grad=True)\n",
    "y = x + 2"
   ]
  },
  {
   "cell_type": "code",
   "execution_count": null,
   "id": "a70c33e4",
   "metadata": {},
   "outputs": [],
   "source": [
    "y.backward()"
   ]
  },
  {
   "cell_type": "code",
   "execution_count": null,
   "id": "94b50acf",
   "metadata": {},
   "outputs": [],
   "source": [
    "x.grad"
   ]
  },
  {
   "cell_type": "code",
   "execution_count": null,
   "id": "7d20fd43",
   "metadata": {},
   "outputs": [],
   "source": [
    "z = x.detach()"
   ]
  },
  {
   "cell_type": "code",
   "execution_count": null,
   "id": "e14328fe",
   "metadata": {},
   "outputs": [],
   "source": [
    "z.grad"
   ]
  },
  {
   "cell_type": "code",
   "execution_count": null,
   "id": "adfade8f",
   "metadata": {},
   "outputs": [],
   "source": [
    "import torch\n",
    "import torch.nn as nn\n",
    "\n",
    "class _FC2(nn.Module):\n",
    "    def __init__(self):\n",
    "        super().__init__()\n",
    "        self.fc = nn.Linear(10, 50, bias=True)\n",
    "        self.fc.bias.requires_grad = False\n",
    "\n",
    "    def forward(self, x):\n",
    "        x = self.fc(x)\n",
    "        return x\n",
    "\n",
    "class ToyModel(nn.Module):\n",
    "    def __init__(self):\n",
    "        super().__init__()\n",
    "        self.fc1 = nn.Linear(10, 10, bias=False)\n",
    "        self.fc2 = _FC2()\n",
    "        self.fc3 = nn.Linear(50, 5, bias=False)\n",
    "        self.relu = nn.ReLU()\n",
    "        self.no_grad_fixed_param = nn.Parameter(torch.tensor([2.0, 2.0]), requires_grad=False)"
   ]
  },
  {
   "cell_type": "code",
   "execution_count": null,
   "id": "6125734d",
   "metadata": {},
   "outputs": [],
   "source": [
    "def get_buckets(model, bucket_size_mb:float) -> list[list[torch.tensor]]:\n",
    "    # get bucket size limit in num of elements\n",
    "    bucket_size_limit = (1024**2 * bucket_size_mb)//4\n",
    "    buckets = []\n",
    "    current_size = 0\n",
    "    current_bucket = []\n",
    "    for param in reversed(list(model.parameters())):\n",
    "        param.grad = param.data\n",
    "        # skip params do not need grad calculation\n",
    "        if not param.requires_grad:\n",
    "            continue\n",
    "        # if current param is large\n",
    "        if param.nelement() > bucket_size_limit:\n",
    "            if current_bucket:  \n",
    "                buckets.append(current_bucket)\n",
    "                current_bucket = []\n",
    "                current_size = 0\n",
    "            buckets.append([param.grad])\n",
    "        # if current param leads to overflow\n",
    "        elif param.nelement() + current_size > bucket_size_limit:\n",
    "            buckets.append(current_bucket)\n",
    "            current_bucket = [param.grad]\n",
    "            current_size = param.nelement()\n",
    "        # if current param is ok\n",
    "        else:\n",
    "            current_bucket += [param.grad]\n",
    "            current_size += param.nelement()\n",
    "    # final pieces if exists\n",
    "    if current_bucket:  \n",
    "        buckets.append(current_bucket)\n",
    "\n",
    "    return buckets\n",
    "        "
   ]
  },
  {
   "cell_type": "code",
   "execution_count": null,
   "id": "d084154b",
   "metadata": {},
   "outputs": [],
   "source": [
    "model = ToyModel()\n",
    "for param in model.parameters():\n",
    "    print(param.requires_grad)"
   ]
  },
  {
   "cell_type": "code",
   "execution_count": null,
   "id": "034b52e9",
   "metadata": {},
   "outputs": [],
   "source": [
    "buckets_flat = [torch._utils._flatten_dense_tensors([bucket]) for bucket in model.parameters()]"
   ]
  },
  {
   "cell_type": "code",
   "execution_count": null,
   "id": "dd2ed60f",
   "metadata": {},
   "outputs": [],
   "source": [
    "type(buckets_flat[0])"
   ]
  },
  {
   "cell_type": "code",
   "execution_count": null,
   "id": "a93788e4",
   "metadata": {},
   "outputs": [],
   "source": [
    "buckets = get_buckets(ToyModel(), 0.004)\n",
    "buckets_flat = [torch._utils._flatten_dense_tensors(bucket) for bucket in buckets]"
   ]
  },
  {
   "cell_type": "code",
   "execution_count": null,
   "id": "7555a8c0",
   "metadata": {},
   "outputs": [],
   "source": [
    "buckets[0][0].shape"
   ]
  },
  {
   "cell_type": "code",
   "execution_count": null,
   "id": "31b33a87",
   "metadata": {},
   "outputs": [],
   "source": [
    "buckets_flat[0]"
   ]
  },
  {
   "cell_type": "code",
   "execution_count": null,
   "id": "d0d43cb9",
   "metadata": {},
   "outputs": [],
   "source": [
    "buckets_unflat = [\n",
    "    torch._utils._unflatten_dense_tensors(bucket_flat, bucket) for (bucket_flat, bucket) in zip(buckets_flat, buckets)\n",
    "]"
   ]
  },
  {
   "cell_type": "code",
   "execution_count": null,
   "id": "75bfdfb2",
   "metadata": {},
   "outputs": [],
   "source": [
    "buckets_unflat[0][2]"
   ]
  },
  {
   "cell_type": "code",
   "execution_count": null,
   "id": "f9272279",
   "metadata": {},
   "outputs": [],
   "source": [
    "buckets_flat = [torch._utils._flatten_dense_tensors(bucket) for bucket in buckets]"
   ]
  },
  {
   "cell_type": "code",
   "execution_count": null,
   "id": "d7508149",
   "metadata": {},
   "outputs": [],
   "source": [
    "buckets[0]"
   ]
  },
  {
   "cell_type": "code",
   "execution_count": null,
   "id": "40e4cf84",
   "metadata": {},
   "outputs": [],
   "source": [
    "torch._utils._unflatten_dense_tensors(buckets_flat[0], buckets[0])"
   ]
  },
  {
   "cell_type": "code",
   "execution_count": null,
   "id": "053ab2a6",
   "metadata": {},
   "outputs": [],
   "source": []
  },
  {
   "cell_type": "code",
   "execution_count": null,
   "id": "8549a953",
   "metadata": {},
   "outputs": [],
   "source": []
  },
  {
   "cell_type": "code",
   "execution_count": null,
   "id": "7a3f1ff6",
   "metadata": {},
   "outputs": [],
   "source": [
    "import torch\n",
    "# v = torch.tensor([0., 0., 0.], requires_grad=True)\n",
    "x = torch.tensor([0., 0., 0.], requires_grad=True)\n",
    "v = x * 2\n",
    "lr = 0.01\n",
    "# simulate a simple SGD update\n",
    "h = v.register_post_accumulate_grad_hook(lambda p: p.add_(p.grad, alpha=-lr))\n",
    "v.backward(torch.tensor([1., 2., 3.]))\n",
    "v\n",
    "\n",
    "h.remove()  # removes the hook"
   ]
  },
  {
   "cell_type": "code",
   "execution_count": null,
   "id": "063a7484",
   "metadata": {},
   "outputs": [],
   "source": []
  },
  {
   "cell_type": "code",
   "execution_count": null,
   "id": "8b9caa2e",
   "metadata": {},
   "outputs": [],
   "source": [
    "import torch\n",
    "\n",
    "a = torch.tensor(2.0, requires_grad=True)\n",
    "b = torch.tensor(3.0, requires_grad=True)\n",
    "\n",
    "c = a * b\n",
    "\n",
    "def c_hook(grad):\n",
    "    print(grad)\n",
    "    return grad + 2\n",
    "\n",
    "c.register_hook(c_hook)\n",
    "c.register_hook(lambda grad: print(grad))\n",
    "c.retain_grad()\n",
    "\n",
    "d = torch.tensor(4.0, requires_grad=True)\n",
    "d.register_hook(lambda grad:grad + 100)\n",
    "\n",
    "e = c * d\n",
    "\n",
    "e.retain_grad()\n",
    "e.register_hook(lambda grad: grad * 2)\n",
    "e.retain_grad()"
   ]
  },
  {
   "cell_type": "code",
   "execution_count": null,
   "id": "fc022817",
   "metadata": {},
   "outputs": [],
   "source": [
    "# What you can inspect from grad_fn:\n",
    "print(\"Backward node type:\", c.grad_fn)\n",
    "print(\"Operation name:\", c.grad_fn.name())\n",
    "print(\"Next functions:\", c.grad_fn.next_functions)\n",
    "print(\"\\nHooks are stored on the tensor, not grad_fn:\")\n",
    "print(\"Tensor hooks:\", c._backward_hooks)"
   ]
  },
  {
   "cell_type": "code",
   "execution_count": null,
   "id": "4585856c",
   "metadata": {},
   "outputs": [],
   "source": [
    "??c.backward"
   ]
  },
  {
   "cell_type": "code",
   "execution_count": null,
   "id": "baf8a87d",
   "metadata": {},
   "outputs": [],
   "source": [
    "d._backward_hooks"
   ]
  },
  {
   "cell_type": "code",
   "execution_count": null,
   "id": "c685f131",
   "metadata": {},
   "outputs": [],
   "source": [
    "c._backward_hooks"
   ]
  },
  {
   "cell_type": "code",
   "execution_count": null,
   "id": "cbf2e42d",
   "metadata": {},
   "outputs": [],
   "source": [
    "c.backward()"
   ]
  },
  {
   "cell_type": "code",
   "execution_count": null,
   "id": "d2139ded",
   "metadata": {},
   "outputs": [],
   "source": []
  },
  {
   "cell_type": "code",
   "execution_count": null,
   "id": "6c1909fc",
   "metadata": {},
   "outputs": [],
   "source": [
    "c.backward()"
   ]
  },
  {
   "cell_type": "code",
   "execution_count": null,
   "id": "deed29ec",
   "metadata": {},
   "outputs": [],
   "source": [
    "a"
   ]
  },
  {
   "cell_type": "code",
   "execution_count": null,
   "id": "5401b66a",
   "metadata": {},
   "outputs": [],
   "source": []
  },
  {
   "cell_type": "code",
   "execution_count": null,
   "id": "3a6a8fb0",
   "metadata": {},
   "outputs": [],
   "source": [
    "import torch\n",
    "a= torch.ones(5, requires_grad=True)\n",
    "\n",
    "b = a**2\n",
    "b.retain_grad()\n",
    "# b.register_hook(lambda x: print(\"hello world\"))\n",
    "\n",
    "c = b.mean()\n",
    "c.retain_grad()\n",
    "c.backward()\n",
    "\n",
    "print(c.grad, b.grad, a.grad)\n"
   ]
  },
  {
   "cell_type": "code",
   "execution_count": null,
   "id": "2d07cdd8",
   "metadata": {},
   "outputs": [],
   "source": [
    "c.backward(torch.tensor(1.0))"
   ]
  },
  {
   "cell_type": "code",
   "execution_count": null,
   "id": "2b8c4185",
   "metadata": {},
   "outputs": [],
   "source": [
    "# Example 1: Scalar output - gradient argument defaults to 1.0\n",
    "import torch\n",
    "\n",
    "x = torch.tensor([1.0, 2.0, 3.0], requires_grad=True)\n",
    "y = x.sum()  # y is scalar: y = x1 + x2 + x3\n",
    "\n",
    "print(f\"y = {y}\")\n",
    "# y.backward()  # Equivalent to\n",
    "y.backward(torch.tensor(2.0))\n",
    "print(f\"∂y/∂x = {x.grad}\")  # Should be [1, 1, 1]"
   ]
  },
  {
   "cell_type": "code",
   "execution_count": null,
   "id": "2a9d5d33",
   "metadata": {},
   "outputs": [],
   "source": [
    "c"
   ]
  },
  {
   "cell_type": "code",
   "execution_count": null,
   "id": "b10cff4f",
   "metadata": {},
   "outputs": [],
   "source": [
    "import torch\n",
    "import time\n",
    "import os\n",
    "from typing import List, Callable\n",
    "import torch.nn.functional as F\n",
    "import torch.distributed as dist\n",
    "import torch.distributed.fsdp\n",
    "from execute_util import text, image, link, system_text\n",
    "from torch_util import get_device\n",
    "from lecture_util import article_link\n",
    "from lecture_08_utils import spawn, int_divide, summarize_tensor, get_init_params, render_duration"
   ]
  },
  {
   "cell_type": "code",
   "execution_count": null,
   "id": "328e7e63",
   "metadata": {},
   "outputs": [],
   "source": [
    "from lecture_08 import collective_operations_main, data_parallelism_main, generate_sample_data, tensor_parallelism_main"
   ]
  },
  {
   "cell_type": "code",
   "execution_count": null,
   "id": "c1e53519",
   "metadata": {},
   "outputs": [],
   "source": [
    "spawn(collective_operations_main, world_size=2)"
   ]
  },
  {
   "cell_type": "code",
   "execution_count": null,
   "id": "fa9dc80e",
   "metadata": {},
   "outputs": [],
   "source": [
    "data = generate_sample_data()"
   ]
  },
  {
   "cell_type": "code",
   "execution_count": null,
   "id": "2a52fb66",
   "metadata": {},
   "outputs": [],
   "source": [
    "spawn(data_parallelism_main, world_size=2, data=data, num_layers=4, num_steps=1)"
   ]
  },
  {
   "cell_type": "code",
   "execution_count": null,
   "id": "f0f69865",
   "metadata": {},
   "outputs": [],
   "source": [
    "spawn(tensor_parallelism_main, world_size=2, data=data, num_layers=4)"
   ]
  },
  {
   "cell_type": "code",
   "execution_count": null,
   "id": "9f8c8677",
   "metadata": {},
   "outputs": [],
   "source": [
    "from "
   ]
  }
 ],
 "metadata": {
  "kernelspec": {
   "display_name": "cs336-systems",
   "language": "python",
   "name": "python3"
  },
  "language_info": {
   "codemirror_mode": {
    "name": "ipython",
    "version": 3
   },
   "file_extension": ".py",
   "mimetype": "text/x-python",
   "name": "python",
   "nbconvert_exporter": "python",
   "pygments_lexer": "ipython3",
   "version": "3.12.12"
  }
 },
 "nbformat": 4,
 "nbformat_minor": 5
}
