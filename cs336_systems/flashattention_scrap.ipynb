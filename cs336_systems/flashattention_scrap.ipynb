{
 "cells": [
  {
   "cell_type": "code",
   "execution_count": 1,
   "id": "9952cb16",
   "metadata": {},
   "outputs": [],
   "source": [
    "from tests.test_attention import flash_backward_results, _attention_and_lse, _make_attn_inputs\n",
    "from cs336_systems.flashattention import FlashAttentionTriton, AttentionPytorch\n",
    "from cs336_systems.flashattention_triton_autotune import FlashAttentionTritonAutotune\n",
    "from cs336_systems.flashattention_triton_backward import FlashAttentionTritonBackward\n",
    "from cs336_systems.flashattention_triton_optimized import FlashAttentionTritonOptimized\n",
    "\n",
    "# sanity check\n",
    "# impl_0 = AttentionPytorch.apply\n",
    "# q_0, k_0, v_0, do_0 = _make_attn_inputs(device='cuda')\n",
    "# o_0 = impl_0(q_0, k_0, v_0, True)\n",
    "# o_0.backward(do_0)\n",
    "\n",
    "# impl_1 = FlashAttentionTritonOptimized.apply\n",
    "# q_1, k_1, v_1, do_1 = _make_attn_inputs(device='cuda')\n",
    "# o_1 = impl_1(q_1, k_1, v_1, True)\n",
    "# o_1.backward(do_1)\n",
    "#\n",
    "# import torch\n",
    "# torch.testing.assert_close(q_0.grad, q_1.grad, rtol=1e-2, atol=1e-2)\n",
    "# torch.testing.assert_close(k_0.grad, k_1.grad, rtol=1e-2, atol=1e-2)"
   ]
  },
  {
   "cell_type": "code",
   "execution_count": null,
   "id": "4e9c0c73-8596-410a-8a82-59ecfe29c74f",
   "metadata": {},
   "outputs": [],
   "source": [
    "class FlashAttention2:\n",
    "    def __init__(self, impl, B_q=16, B_k=16):\n",
    "        self.impl = impl\n",
    "        self.B_q = B_q\n",
    "        self.B_k = B_k\n",
    "    \n",
    "    def __call__(self, Q, K, V, is_causal=True):\n",
    "        return self.impl.apply(Q, K, V, is_causal, self.B_q, self.B_k)\n",
    "\n",
    "# # Usage:\n",
    "# flash_small = FlashAttentionPytorch(B_q=8, B_k=8)\n",
    "# o = flash_small(q, k, v, False)"
   ]
  },
  {
   "cell_type": "code",
   "execution_count": null,
   "id": "defdec83",
   "metadata": {},
   "outputs": [],
   "source": [
    "import torch\n",
    "import triton\n",
    "def test_timing_flash_forward_backward(test, impl, n_heads, d_head, sequence_length, dtype=torch.bfloat16, device='cuda', B_q=16, B_k=16):\n",
    "    q, k, v = torch.randn(\n",
    "        3, n_heads, sequence_length, d_head, device=device, dtype=dtype, requires_grad=True\n",
    "    )\n",
    "    \n",
    "    flash = torch.compile(FlashAttention2(impl, B_q, B_k))\n",
    "    # sanity check; it would fail without compiling if precision in triton is not implemented right\n",
    "    # flash = FlashAttention2(impl, B_q, B_k)\n",
    "    \n",
    "    def flash_forward():\n",
    "        o = flash(q, k, v, True)\n",
    "\n",
    "    def flash_forward_backward():\n",
    "        o = flash(q, k, v, True)\n",
    "        loss = o.sum()\n",
    "        loss.backward()\n",
    "\n",
    "    if test == \"forward\":\n",
    "        results = triton.testing.do_bench(flash_forward, rep=1000, warmup=1000)\n",
    "    elif test == \"forward_backward\":\n",
    "        results = triton.testing.do_bench(flash_forward_backward, rep=1000, warmup=1000)\n",
    "    else:\n",
    "        raise ValueError(\"Wrong selection.\")\n",
    "    print(results)"
   ]
  },
  {
   "cell_type": "code",
   "execution_count": null,
   "id": "7075148b-12cf-4643-bbd9-e3bb52cf7792",
   "metadata": {},
   "outputs": [],
   "source": [
    "test_timing_flash_forward_backward(\"forward_backward\", FlashAttentionTriton, 16, 128, 16384, dtype=torch.bfloat16)"
   ]
  },
  {
   "cell_type": "markdown",
   "id": "35badb1b",
   "metadata": {},
   "source": [
    "## The leaderboard"
   ]
  },
  {
   "cell_type": "code",
   "execution_count": null,
   "id": "4f302acd",
   "metadata": {},
   "outputs": [],
   "source": [
    "import torch\n",
    "import triton\n",
    "from cs336_systems.flashattention import FlashAttentionTriton, AttentionPytorch\n",
    "from cs336_systems.flashattention_triton_autotune import FlashAttentionTritonAutotune\n",
    "from cs336_systems.flashattention_triton_backward import FlashAttentionTritonBackward\n",
    "from cs336_systems.flashattention_triton_optimized import FlashAttentionTritonOptimized\n",
    "\n",
    "def test_timing_flash_forward_backward(impl):\n",
    "    n_heads = 16\n",
    "    d_head = 64\n",
    "    sequence_length = 16384\n",
    "    q, k, v = torch.randn(\n",
    "        3, n_heads, sequence_length, d_head, device=\"cuda\", dtype=torch.bfloat16, requires_grad=True\n",
    "    )\n",
    "    \n",
    "    flash = torch.compile(impl.apply)\n",
    "\n",
    "    def flash_forward_backward():\n",
    "        o = flash(q, k, v, True)\n",
    "        loss = o.sum()\n",
    "        loss.backward()\n",
    "\n",
    "    results = triton.testing.do_bench(flash_forward_backward, rep=10000, warmup=1000)\n",
    "    # print(results)\n",
    "    return results\n",
    "\n",
    "for impl in [\n",
    "    AttentionPytorch, FlashAttentionTriton, FlashAttentionTritonAutotune,\n",
    "    FlashAttentionTritonBackward, FlashAttentionTritonOptimized\n",
    "]:\n",
    "    time = test_timing_flash_forward_backward(impl)\n",
    "    print(f\"{impl.__name__}: {time:.3f}\")\n",
    "\n",
    "# output\n",
    "# AttentionPytorch: 32.250\n",
    "# FlashAttentionTriton: 39.116\n",
    "# FlashAttentionTritonAutotune: 27.936\n",
    "# FlashAttentionTritonBackward: 43.512\n",
    "# FlashAttentionTritonOptimized: 9.752"
   ]
  }
 ],
 "metadata": {
  "kernelspec": {
   "display_name": "cs336-systems",
   "language": "python",
   "name": "python3"
  },
  "language_info": {
   "codemirror_mode": {
    "name": "ipython",
    "version": 3
   },
   "file_extension": ".py",
   "mimetype": "text/x-python",
   "name": "python",
   "nbconvert_exporter": "python",
   "pygments_lexer": "ipython3",
   "version": "3.11.13"
  }
 },
 "nbformat": 4,
 "nbformat_minor": 5
}
