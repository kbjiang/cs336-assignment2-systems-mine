{
 "cells": [
  {
   "cell_type": "code",
   "execution_count": 1,
   "id": "9952cb16",
   "metadata": {},
   "outputs": [],
   "source": [
    "from tests.test_attention import flash_backward_results, _attention_and_lse, _make_attn_inputs\n",
    "from cs336_systems.flashattention_autograd_function import FlashAttentionAutogradFunctionTriton\n",
    "from cs336_systems.flashattention_autograd_function import FlashAttentionAutogradFunctionPytorch"
   ]
  },
  {
   "cell_type": "code",
   "execution_count": 2,
   "id": "4e9c0c73-8596-410a-8a82-59ecfe29c74f",
   "metadata": {},
   "outputs": [],
   "source": [
    "class FlashAttention2:\n",
    "    def __init__(self, impl, B_q=16, B_k=16):\n",
    "        self.impl = impl\n",
    "        self.B_q = B_q\n",
    "        self.B_k = B_k\n",
    "    \n",
    "    def __call__(self, Q, K, V, is_causal=True):\n",
    "        return self.impl.apply(Q, K, V, is_causal, self.B_q, self.B_k)\n",
    "\n",
    "# # Usage:\n",
    "# flash_small = FlashAttentionPytorch(B_q=8, B_k=8)\n",
    "# o = flash_small(q, k, v, False)"
   ]
  },
  {
   "cell_type": "code",
   "execution_count": 10,
   "id": "defdec83",
   "metadata": {},
   "outputs": [],
   "source": [
    "import torch\n",
    "import triton\n",
    "def test_timing_flash_forward_backward(impl, n_heads, d_head, sequence_length, dtype=torch.bfloat16, device='cuda', B_q=16, B_k=16):\n",
    "    q, k, v = torch.randn(\n",
    "        3, n_heads, sequence_length, d_head, device=device, dtype=dtype, requires_grad=True\n",
    "    )\n",
    "    \n",
    "    flash = torch.compile(FlashAttention2(impl, B_q, B_k))\n",
    "    \n",
    "    def flash_forward_backward():\n",
    "        o = flash(q, k, v, True)\n",
    "        loss = o.sum()\n",
    "        loss.backward()\n",
    "    \n",
    "    results = triton.testing.do_bench(flash_forward_backward, rep=1000, warmup=100)\n",
    "    print(results)"
   ]
  },
  {
   "cell_type": "code",
   "execution_count": null,
   "id": "7075148b-12cf-4643-bbd9-e3bb52cf7792",
   "metadata": {},
   "outputs": [],
   "source": [
    "test_timing_flash_forward_backward(FlashAttentionAutogradFunctionPytorch, 16, 32, 2048)"
   ]
  },
  {
   "cell_type": "code",
   "execution_count": 3,
   "id": "aa5a5bce-a913-4000-b431-e3a8b1e7780a",
   "metadata": {},
   "outputs": [
    {
     "name": "stdout",
     "output_type": "stream",
     "text": [
      "50.25733184814453\n"
     ]
    }
   ],
   "source": [
    "test_timing_flash_forward_backward()"
   ]
  },
  {
   "cell_type": "code",
   "execution_count": null,
   "id": "cc32d529",
   "metadata": {},
   "outputs": [],
   "source": [
    "dq_e"
   ]
  }
 ],
 "metadata": {
  "kernelspec": {
   "display_name": "cs336",
   "language": "python",
   "name": ".venv"
  },
  "language_info": {
   "codemirror_mode": {
    "name": "ipython",
    "version": 3
   },
   "file_extension": ".py",
   "mimetype": "text/x-python",
   "name": "python",
   "nbconvert_exporter": "python",
   "pygments_lexer": "ipython3",
   "version": "3.11.13"
  }
 },
 "nbformat": 4,
 "nbformat_minor": 5
}
