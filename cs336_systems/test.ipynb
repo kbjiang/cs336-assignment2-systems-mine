{
 "cells": [
  {
   "cell_type": "code",
   "execution_count": null,
   "id": "9952cb16",
   "metadata": {},
   "outputs": [],
   "source": [
    "from tests.test_attention import flash_backward_results, _attention_and_lse, _make_attn_inputs\n",
    "from cs336_systems.flashattention_autograd_function import (\n",
    "    FlashAttentionAutogradFunctionTriton, \n",
    "    FlashAttentionAutogradFunctionPytorch, \n",
    "    AttentionAutogradFunctionPytorch,     \n",
    ")\n",
    "\n",
    "# impl_0 = AttentionAutogradFunctionPytorch.apply\n",
    "# q, k, v, do = _make_attn_inputs(device='cuda')\n",
    "# o_0 = impl_0(q, k, v, True)\n",
    "# o_0.backward(do)\n",
    "# v.grad"
   ]
  },
  {
   "cell_type": "code",
   "execution_count": null,
   "id": "4e9c0c73-8596-410a-8a82-59ecfe29c74f",
   "metadata": {},
   "outputs": [],
   "source": [
    "class FlashAttention2:\n",
    "    def __init__(self, impl, B_q=16, B_k=16):\n",
    "        self.impl = impl\n",
    "        self.B_q = B_q\n",
    "        self.B_k = B_k\n",
    "    \n",
    "    def __call__(self, Q, K, V, is_causal=True):\n",
    "        return self.impl.apply(Q, K, V, is_causal, self.B_q, self.B_k)\n",
    "\n",
    "# # Usage:\n",
    "# flash_small = FlashAttentionPytorch(B_q=8, B_k=8)\n",
    "# o = flash_small(q, k, v, False)"
   ]
  },
  {
   "cell_type": "code",
   "execution_count": null,
   "id": "defdec83",
   "metadata": {},
   "outputs": [],
   "source": [
    "import torch\n",
    "import triton\n",
    "def test_timing_flash_forward_backward(test, impl, n_heads, d_head, sequence_length, dtype=torch.bfloat16, device='cuda', B_q=16, B_k=16):\n",
    "    q, k, v = torch.randn(\n",
    "        3, n_heads, sequence_length, d_head, device=device, dtype=dtype, requires_grad=True\n",
    "    )\n",
    "    \n",
    "    flash = torch.compile(FlashAttention2(impl, B_q, B_k))\n",
    "    # flash = FlashAttention2(impl, B_q, B_k)\n",
    "    \n",
    "    def flash_forward():\n",
    "        o = flash(q, k, v, True)\n",
    "\n",
    "    def flash_forward_backward():\n",
    "        o = flash(q, k, v, True)\n",
    "        loss = o.sum()\n",
    "        loss.backward()\n",
    "\n",
    "    if test == \"forward\":\n",
    "        results = triton.testing.do_bench(flash_forward, rep=1000, warmup=1000)\n",
    "    elif test == \"forward_backward\":\n",
    "        results = triton.testing.do_bench(flash_forward_backward, rep=1000, warmup=1000)\n",
    "    else:\n",
    "        raise ValueError(\"Wrong selection.\")\n",
    "    print(results)"
   ]
  },
  {
   "cell_type": "code",
   "execution_count": null,
   "id": "7075148b-12cf-4643-bbd9-e3bb52cf7792",
   "metadata": {},
   "outputs": [],
   "source": [
    "test_timing_flash_forward_backward(\"forward_backward\", AttentionAutogradFunctionPytorch, 16, 64, 16384)"
   ]
  },
  {
   "cell_type": "code",
   "execution_count": null,
   "id": "21573428-41a2-454c-8b3d-324fd2ec2306",
   "metadata": {},
   "outputs": [],
   "source": [
    "test_timing_flash_forward_backward(\"forward_backward\", FlashAttentionAutogradFunctionTriton, 16, 64, 16384, dtype=torch.bfloat16, B_q=32, B_k=32)"
   ]
  }
 ],
 "metadata": {
  "kernelspec": {
   "display_name": "cs336",
   "language": "python",
   "name": ".venv"
  },
  "language_info": {
   "codemirror_mode": {
    "name": "ipython",
    "version": 3
   },
   "file_extension": ".py",
   "mimetype": "text/x-python",
   "name": "python",
   "nbconvert_exporter": "python",
   "pygments_lexer": "ipython3",
   "version": "3.11.13"
  }
 },
 "nbformat": 4,
 "nbformat_minor": 5
}
