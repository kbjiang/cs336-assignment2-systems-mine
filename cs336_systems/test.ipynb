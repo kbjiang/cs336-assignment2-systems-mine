{
 "cells": [
  {
   "cell_type": "code",
   "execution_count": null,
   "id": "9952cb16",
   "metadata": {},
   "outputs": [],
   "source": [
    "from tests.test_attention import flash_backward_results, _attention_and_lse, _make_attn_inputs\n",
    "from cs336_systems.flashattention_autograd_function import FlashAttentionAutogradFunctionTriton as FlashAttention2"
   ]
  },
  {
   "cell_type": "code",
   "execution_count": null,
   "id": "defdec83",
   "metadata": {},
   "outputs": [],
   "source": [
    "def test_timing_flash_forward_backward():\n",
    "    n_heads = 16\n",
    "    d_head = 64\n",
    "    sequence_length = 16384\n",
    "    q, k, v = torch.randn(\n",
    "        3, n_heads, sequence_length, d_head, device='cuda', dtype=torch.bfloat16, requires_grad=True\n",
    "    )\n",
    "    \n",
    "    flash = torch.compile(FlashAttention2.apply)\n",
    "    \n",
    "    def flash_forward_backward():\n",
    "        o = flash(q, k, v, True)\n",
    "        loss = o.sum()\n",
    "        loss.backward()\n",
    "    \n",
    "    results = triton.testing.do_bench(flash_forward_backward, rep=10000, warmup=1000)\n",
    "    print(results)"
   ]
  },
  {
   "cell_type": "code",
   "execution_count": null,
   "id": "b0b3412a",
   "metadata": {},
   "outputs": [],
   "source": [
    "grad_out = do\n",
    "Q, K, V, L, O = o.grad_fn.saved_tensors\n",
    "batch_size, _, D = Q.shape\n",
    "DD = torch.sum(O * grad_out, axis=-1)\n",
    "S = einsum(Q, K, \"... q d, ... k d -> ... q k\") / D ** 0.5\n",
    "P = torch.exp(S - L[:, :, None])\n",
    "dV = einsum(P, grad_out, \"... q k, ... q d -> ... k d\")\n",
    "dP = einsum(grad_out, V, \"... q d, ... k d -> ... q k\")\n",
    "dS = P * (dP - DD[:, :, None])\n",
    "dQ = einsum(dS, K, \"... q k, ... k d -> ... q d\") / D ** 0.5\n",
    "dK = einsum(dS, Q, \"... q k, ... q d -> ... k d\") / D ** 0.5"
   ]
  },
  {
   "cell_type": "code",
   "execution_count": null,
   "id": "cc32d529",
   "metadata": {},
   "outputs": [],
   "source": [
    "dq_e"
   ]
  }
 ],
 "metadata": {
  "kernelspec": {
   "display_name": "cs336-systems",
   "language": "python",
   "name": "python3"
  },
  "language_info": {
   "codemirror_mode": {
    "name": "ipython",
    "version": 3
   },
   "file_extension": ".py",
   "mimetype": "text/x-python",
   "name": "python",
   "nbconvert_exporter": "python",
   "pygments_lexer": "ipython3",
   "version": "3.11.13"
  }
 },
 "nbformat": 4,
 "nbformat_minor": 5
}
